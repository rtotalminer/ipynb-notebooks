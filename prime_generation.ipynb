{
 "cells": [
  {
   "cell_type": "markdown",
   "id": "b314ff74",
   "metadata": {},
   "source": [
    "# Generation Of Primes\n",
    "## Introduction\n",
    "The notebook was made to better my understanding of algorithmically generating primes and how to iteraviley improve an algorithm.\n",
    "## Overview\n",
    "For relatively small numbers, it is possible to just apply trial division to each successive odd number. Prime sieves are almost always faster. Prime sieving is the fastest known way to deterministically enumerate the primes. There are some known formulas that can calculate the next prime but there is no known way to express the next prime in terms of the previous primes. Also, there is no effective known general manipulation and/or extension of some mathematical expression (even such including later primes) that deterministically calculates the next prime.\n",
    "\n",
    "## References\n",
    "1. [Generation of Primes](https://en.wikipedia.org/wiki/Generation_of_primes)\n",
    "2. [Trial Division](https://en.wikipedia.org/wiki/Trial_division)\n",
    "\n",
    "## Trial Division\n",
    "Trial division was first described by Fibonacci in his book Liber Abaci (1202).\n",
    "\n",
    "Trial division is the most laborious but easiest to understand of the integer factorization algorithms. The essential idea behind trial division tests to see if an integer *n*, the integer to be factored, can be divided by each number in turn that is less than *n*.\n",
    "\n",
    "### Method\n",
    "Given an integer n (n refers to \"the integer to be factored\"), the trial division consists of systematically testing whether n is divisible by any smaller number. Clearly, it is only worthwhile to test candidate factors less than n, and in order from two upwards because an arbitrary n is more likely to be divisible by two than by three, and so on. With this ordering, there is no point in testing for divisibility by four if the number has already been determined not divisible by two, and so on for three and any multiple of three, etc. Therefore, the effort can be reduced by selecting only prime numbers as candidate factors. Furthermore, the trial factors need go no further than ${\\displaystyle \\scriptstyle {\\sqrt {n}}}$ because, if *n* is divisible by some number *p*, then $n = p \\times q $ and if *q* were smaller than *p*, *n* would have been detected earlier as being divisible by *q* or by a prime factor of *q*.\n",
    "\n",
    "A definite bound on the prime factors is possible. Suppose $ P_i $ is the i'th prime, so that $ P_1 = 2 $, $ P_2 = 3 $, $P_3 = 5$, etc. Then the last prime number worth testing as a possible factor of *n* is $P_i$ where $P_{2i} + 1 > n$; equality here would mean that $P_i + 1 $ is a factor. Thus, testing with 2, 3, and 5 suffices up to  $n = 48$ not just 25 because the square of the next prime is 49, and below n = 25 just 2 and 3 are sufficient. Should the square root of *n* be an integer, then it is a factor and *n* is a perfect square."
   ]
  },
  {
   "cell_type": "code",
   "execution_count": 103,
   "id": "c0a6139f",
   "metadata": {},
   "outputs": [
    {
     "name": "stdout",
     "output_type": "stream",
     "text": [
      "[2, 2, 2, 3, 5] 33369 ns\n"
     ]
    }
   ],
   "source": [
    "import time\n",
    "\n",
    "\n",
    "def trial_division_1(n: int) -> list[int]:\n",
    "    \"\"\"Return a list of the prime factors for a natural number.\"\"\"\n",
    "    a = []                    # Prepare an empty list.\n",
    "    f = 2                     # The first possible factor.    \n",
    "    while n > 1:              # While n still has remaining factors...\n",
    "        if n % f == 0:        # The remainder of n divided by f might be zero.        \n",
    "            a.append(f)       # If so, it divides n. Add f to the list.\n",
    "            n //= f           # Divide that factor out of n.\n",
    "        else:                 # But if f is not a factor of n,\n",
    "            f += 1            # Add one to f and try again.\n",
    "    return a                  # Prime factors may be repeated: 12 factors to 2,2,3.\n",
    "\n",
    "t0 = time.time_ns()\n",
    "a = trial_division_1(120)\n",
    "t1 = time.time_ns()\n",
    "\n",
    "print(a, t1-t0, \"ns\")"
   ]
  },
  {
   "cell_type": "markdown",
   "id": "09ee3d64",
   "metadata": {},
   "source": [
    "Or 2x more efficient:"
   ]
  },
  {
   "cell_type": "code",
   "execution_count": 101,
   "id": "0dcfd55d",
   "metadata": {},
   "outputs": [
    {
     "name": "stdout",
     "output_type": "stream",
     "text": [
      "[2, 2, 2, 3, 5] 34545 ns\n"
     ]
    }
   ],
   "source": [
    "def trial_division_2(n: int) -> list[int]:\n",
    "    a = []\n",
    "    while n % 2 == 0:\n",
    "        a.append(2)\n",
    "        n //= 2\n",
    "    f = 3\n",
    "    while f * f <= n:\n",
    "        if n % f == 0:\n",
    "            a.append(f)\n",
    "            n //= f\n",
    "        else:\n",
    "            f += 2\n",
    "    if n != 1: a.append(n)\n",
    "    # Only odd number is possible\n",
    "    return a\n",
    "\n",
    "t0 = time.time_ns()\n",
    "a = trial_division_2(120)\n",
    "t1 = time.time_ns()\n",
    "\n",
    "print(a, t1-t0, \"ns\")"
   ]
  },
  {
   "cell_type": "markdown",
   "id": "dfc61701",
   "metadata": {},
   "source": [
    "These versions of trial division are guaranteed to find a factor of n if there is one since they check all possible factors of n — and if n is a prime number, this means trial factors all the way up to n. Thus, if the algorithm finds one factor only, n, it is proof that n is a prime. If more than one factor is found, then n is a composite integer. A more computationally advantageous way of saying this is, if any prime whose square does not exceed n divides it without a remainder, then n is not prime.\n",
    "\n",
    "### Speed\n",
    "In the worst case. A base-2 *n* digit number *a*, if it starts from two and works up only to the square root of *a*, the alogirthm requires\n",
    "\n",
    "$$ \\pi({2^{\\frac{n}{2}}}) \\approx \\frac{2^{\\frac{n}{2}}}{(\\frac{n}{2})\\ln{2}}$$\n",
    "\n",
    "amount of trial divisions, where $ \\pi(x)$ denotes the [prime-counting function](https://en.wikipedia.org/wiki/Prime-counting_function), the number of primes less than *x*. This does not take into account the overhead of [primality testing](https://en.wikipedia.org/wiki/Primality_test) to obtain the prime numbers as candidate factors. If instead a variant is used without primality testing, but simply dividing by every odd number less than the square root the base-2 n digit number a, prime or not, it can take up to about:\n",
    "\n",
    "$$ {\\displaystyle 2^{\\frac{n}{2}}} $$\n",
    "\n",
    "For more infomation covering thise topic, check the Wikipedia links in the references.\n",
    "\n",
    "### Trial Division for Generating Primes\n",
    "Now that trail division has been sufficiently explained, it is time to implement the algorithm for generating primes using the labirous method of trail division. For the first alogorithm, which is the most basic and inefficient:\n"
   ]
  },
  {
   "cell_type": "code",
   "execution_count": 109,
   "id": "f5a61e27",
   "metadata": {},
   "outputs": [
    {
     "data": {
      "text/plain": [
       "[3, 5, 7, 11, 13, 17, 19, 23, 29, 31, 37, 41, 43, 47]"
      ]
     },
     "execution_count": 109,
     "metadata": {},
     "output_type": "execute_result"
    }
   ],
   "source": [
    "def primes_gen_1(n):\n",
    "    primes = []\n",
    "    for i in range(2, n):\n",
    "        for j in range(2, i):\n",
    "            if (i % j == 0):\n",
    "                break\n",
    "            if (j == (i-1)):\n",
    "                primes.append(i)\n",
    "    return primes \n",
    "\n",
    "primes_gen_1(50)"
   ]
  },
  {
   "cell_type": "markdown",
   "id": "7ab3d3e7",
   "metadata": {},
   "source": [
    "To examine this algorithm complexity, there will be two approaches:\n",
    " 1. To examine the algorithm from its maximum theoreitcal search space i.e. $ \\{ 0 < n \\}$ and $\\{ 0 < i \\}  $.\n",
    " 2. Examing the algorithm using the actual search space $ \\{ 2 < n \\}$ and $ \\{ 2 < i \\}$.\n",
    "\n",
    "For point 1, we know that a for-loop takes linear time and taking to account our maximum theoreticaly search space descirbed as the integers $ \\{ 0 < n \\}$ then our complexitiy for the first for loop is:\n",
    "$$ O(n)$$\n",
    "\n",
    "By abstracting our loops, the other for loop iterates through the search space $\\{ 0 < i \\}$ meaning that its complexity is:\n",
    "\n",
    "$$ O(i)$$    \n",
    "\n",
    "Our theoretical search space contains the integers 2 to *n* or more formally $(n-2)$, if we had not started our algorithm from 2 then our search space would the the integers 0 to *n*, or just $n$. Our search space then is incremented inside the other for-loop\n",
    "\n",
    "\n",
    "Therefore the complexity of the algorithm is:\n"
   ]
  },
  {
   "cell_type": "markdown",
   "id": "739262dd",
   "metadata": {},
   "source": [
    "## Prime Sieve's\n",
    "A prime sieve is a fast type of algorithm for finding primes.\n",
    "\n",
    "### The Sieve of Eratosthenes (250s BCE)\n",
    "\n"
   ]
  }
 ],
 "metadata": {
  "kernelspec": {
   "display_name": "Python 3 (ipykernel)",
   "language": "python",
   "name": "python3"
  },
  "language_info": {
   "codemirror_mode": {
    "name": "ipython",
    "version": 3
   },
   "file_extension": ".py",
   "mimetype": "text/x-python",
   "name": "python",
   "nbconvert_exporter": "python",
   "pygments_lexer": "ipython3",
   "version": "3.10.8"
  }
 },
 "nbformat": 4,
 "nbformat_minor": 5
}
